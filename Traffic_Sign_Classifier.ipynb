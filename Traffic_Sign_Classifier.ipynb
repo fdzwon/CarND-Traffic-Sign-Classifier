{
 "cells": [
  {
   "cell_type": "markdown",
   "metadata": {},
   "source": [
    "# Self-Driving Car Engineer Nanodegree\n",
    "\n",
    "## Deep Learning\n",
    "\n",
    "## Project: Build a Traffic Sign Recognition Classifier\n",
    "\n",
    "In this notebook, a template is provided for you to implement your functionality in stages which is required to successfully complete this project. If additional code is required that cannot be included in the notebook, be sure that the Python code is successfully imported and included in your submission, if necessary. Sections that begin with **'Implementation'** in the header indicate where you should begin your implementation for your project. Note that some sections of implementation are optional, and will be marked with **'Optional'** in the header.\n",
    "\n",
    "In addition to implementing code, there will be questions that you must answer which relate to the project and your implementation. Each section where you will answer a question is preceded by a **'Question'** header. Carefully read each question and provide thorough answers in the following text boxes that begin with **'Answer:'**. Your project submission will be evaluated based on your answers to each of the questions and the implementation you provide.\n",
    "\n",
    ">**Note:** Code and Markdown cells can be executed using the **Shift + Enter** keyboard shortcut. In addition, Markdown cells can be edited by typically double-clicking the cell to enter edit mode."
   ]
  },
  {
   "cell_type": "markdown",
   "metadata": {},
   "source": [
    "---\n",
    "## Step 0: Load The Data"
   ]
  },
  {
   "cell_type": "code",
   "execution_count": 1,
   "metadata": {
    "collapsed": false
   },
   "outputs": [],
   "source": [
    "# Get Datasets from Pickled Files.\n",
    "import pickle\n",
    "\n",
    "# get location of files.\n",
    "import os\n",
    "training_file = os.getcwd() + '\\\\train.p'\n",
    "testing_file = os.getcwd() + '\\\\test.p'\n",
    "\n",
    "# open and read pickle files.\n",
    "with open(training_file, mode='rb') as f:\n",
    "    train = pickle.load(f)\n",
    "with open(testing_file, mode='rb') as f:\n",
    "    test = pickle.load(f)\n",
    "\n",
    "# get only the features and labels in datasets.\n",
    "X_train, y_train = train['features'], train['labels']\n",
    "X_test, y_test = test['features'], test['labels']\n"
   ]
  },
  {
   "cell_type": "markdown",
   "metadata": {},
   "source": [
    "---\n",
    "\n",
    "## Step 1: Dataset Summary & Exploration\n",
    "\n",
    "The pickled data is a dictionary with 4 key/value pairs:\n",
    "\n",
    "- `'features'` is a 4D array containing raw pixel data of the traffic sign images, (num examples, width, height, channels).\n",
    "- `'labels'` is a 2D array containing the label/class id of the traffic sign. The file `signnames.csv` contains id -> name mappings for each id.\n",
    "- `'sizes'` is a list containing tuples, (width, height) representing the the original width and height the image.\n",
    "- `'coords'` is a list containing tuples, (x1, y1, x2, y2) representing coordinates of a bounding box around the sign in the image. **THESE COORDINATES ASSUME THE ORIGINAL IMAGE. THE PICKLED DATA CONTAINS RESIZED VERSIONS (32 by 32) OF THESE IMAGES**\n",
    "\n",
    "Complete the basic data summary below."
   ]
  },
  {
   "cell_type": "code",
   "execution_count": 2,
   "metadata": {
    "collapsed": false
   },
   "outputs": [
    {
     "name": "stdout",
     "output_type": "stream",
     "text": [
      "Number of training examples = 39209\n",
      "Number of testing examples = 12630\n",
      "Image data shape = (32, 32, 3)\n",
      "Number of classes = 43\n"
     ]
    }
   ],
   "source": [
    "# Get a Summary of our Dataset.\n",
    "\n",
    "# Number of training examples.\n",
    "n_train = len(X_train)\n",
    "\n",
    "# Number of testing examples.\n",
    "n_test = len(X_test)\n",
    "\n",
    "# Take a look at the first example image in training set – get shape.\n",
    "image_shape = X_train[0].shape\n",
    "\n",
    "# Get the number of unique classes/labels in dataset.\n",
    "n_classes = len(set(y_train))\n",
    "\n",
    "print(\"Number of training examples =\", n_train)\n",
    "print(\"Number of testing examples =\", n_test)\n",
    "print(\"Image data shape =\", image_shape)\n",
    "print(\"Number of classes =\", n_classes)"
   ]
  },
  {
   "cell_type": "markdown",
   "metadata": {},
   "source": [
    "Visualize the German Traffic Signs Dataset using the pickled file(s). This is open ended, suggestions include: plotting traffic sign images, plotting the count of each sign, etc.\n",
    "\n",
    "The [Matplotlib](http://matplotlib.org/) [examples](http://matplotlib.org/examples/index.html) and [gallery](http://matplotlib.org/gallery.html) pages are a great resource for doing visualizations in Python.\n",
    "\n",
    "**NOTE:** It's recommended you start with something simple first. If you wish to do more, come back to it after you've completed the rest of the sections."
   ]
  },
  {
   "cell_type": "code",
   "execution_count": 3,
   "metadata": {
    "collapsed": false
   },
   "outputs": [
    {
     "name": "stdout",
     "output_type": "stream",
     "text": [
      "12\n"
     ]
    },
    {
     "data": {
      "image/png": "[encoded data removed]",
      "text/plain": [
       "<matplotlib.figure.Figure at 0x12172a25be0>"
      ]
     },
     "metadata": {},
     "output_type": "display_data"
    }
   ],
   "source": [
    "# Data exploration \n",
    "# Let’s take a look at a sample image\n",
    "\n",
    "import random\n",
    "import numpy as np\n",
    "import matplotlib.pyplot as plt\n",
    "\n",
    "# Visualizations will be shown in the notebook.\n",
    "%matplotlib inline\n",
    "\n",
    "# grab a random image.\n",
    "index = random.randint(0, len(X_train))\n",
    "image = X_train[index].squeeze()\n",
    "\n",
    "            \n",
    "# print the image and the label.\n",
    "plt.figure(figsize=(1,1))\n",
    "plt.imshow(image)\n",
    "print(y_train[index])"
   ]
  },
  {
   "cell_type": "markdown",
   "metadata": {},
   "source": [
    "----\n",
    "\n",
    "## Step 2: Design and Test a Model Architecture\n",
    "\n",
    "Design and implement a deep learning model that learns to recognize traffic signs. Train and test your model on the [German Traffic Sign Dataset](http://benchmark.ini.rub.de/?section=gtsrb&subsection=dataset).\n",
    "\n",
    "There are various aspects to consider when thinking about this problem:\n",
    "\n",
    "- Neural network architecture\n",
    "- Play around preprocessing techniques (normalization, rgb to grayscale, etc)\n",
    "- Number of examples per label (some have more than others).\n",
    "- Generate fake data.\n",
    "\n",
    "Here is an example of a [published baseline model on this problem](http://yann.lecun.com/exdb/publis/pdf/sermanet-ijcnn-11.pdf). It's not required to be familiar with the approach used in the paper but, it's good practice to try to read papers like these.\n",
    "\n",
    "**NOTE:** The LeNet-5 implementation shown in the [classroom](https://classroom.udacity.com/nanodegrees/nd013/parts/fbf77062-5703-404e-b60c-95b78b2f3f9e/modules/6df7ae49-c61c-4bb2-a23e-6527e69209ec/lessons/601ae704-1035-4287-8b11-e2c2716217ad/concepts/d4aca031-508f-4e0b-b493-e7b706120f81) at the end of the CNN lesson is a solid starting point. You'll have to change the number of classes and possibly the preprocessing, but aside from that it's plug and play!"
   ]
  },
  {
   "cell_type": "markdown",
   "metadata": {},
   "source": [
    "### Implementation\n",
    "\n",
    "Use the code cell (or multiple code cells, if necessary) to implement the first step of your project. Once you have completed your implementation and are satisfied with the results, be sure to thoroughly answer the questions that follow."
   ]
  },
  {
   "cell_type": "code",
   "execution_count": 4,
   "metadata": {
    "collapsed": false
   },
   "outputs": [],
   "source": [
    "# Preprocess the data.\n",
    "import cv2\n",
    "\n",
    "from sklearn.utils import shuffle\n",
    "\n",
    "def shuffle_data(X_train, y_train):\n",
    "    X_train, y_train = shuffle(X_train, y_train)\n",
    "    return X_train, y_train\n",
    "\n",
    "# normalize pixel values of input images across all channels.\n",
    "def normalize_images(X_train):\n",
    "    X_train = X_train.astype('float32')\n",
    "    return X_train/255. - .5\n"
   ]
  },
  {
   "cell_type": "markdown",
   "metadata": {},
   "source": [
    "### Question 1 \n",
    "\n",
    "_Describe how you preprocessed the data. Why did you choose that technique?_"
   ]
  },
  {
   "cell_type": "markdown",
   "metadata": {},
   "source": [
    "For preprocessing I simply normalized the pixel values that range in values [0, 255] to [-.5, .5] and shuffled the sets. I tried Histogram Equalization using OpenCV and converting to grey scale and back but this process gave slightly worse results than just simple normalisation. So I opted for the simpler approach."
   ]
  },
  {
   "cell_type": "code",
   "execution_count": 5,
   "metadata": {
    "collapsed": false
   },
   "outputs": [
    {
     "name": "stdout",
     "output_type": "stream",
     "text": [
      "39209\n"
     ]
    }
   ],
   "source": [
    "# Split the data into training/validation/testing sets here.\n",
    "\n",
    "# Training set has already been pulled separately: X_train, y_train.\n",
    "\n",
    "# split test set into test/validation sets.\n",
    "from sklearn.model_selection import train_test_split\n",
    "X_test, X_validation, y_test, y_validation = train_test_split(X_test, y_test, test_size=0.20, random_state=42)\n",
    "\n",
    "\n",
    "# Generate additional data\n",
    "# By rotating or warping images in training set.\n",
    "\n",
    "import cv2\n",
    "\n",
    "def rotate_images(X_train, y_train, stop=1):\n",
    "    for i in range(stop):\n",
    "        # grab the image\n",
    "        image = X_train[i]\n",
    "        # get dimensions of image and calculate center\n",
    "        (h, w) = image.shape[:2]\n",
    "        center = (w / 2, h / 2)\n",
    "        # rotate the image by either -25 or 25 degrees.\n",
    "        angle = random.choice([-25, 25])\n",
    "        M = cv2.getRotationMatrix2D(center, angle, 1.0)\n",
    "        rotated = cv2.warpAffine(image, M, (w, h))\n",
    "        # add to set\n",
    "        X_train = np.append(X_train, [rotated], axis=0)\n",
    "        y_train = np.append(y_train, [y_train[i]], axis=0)\n",
    "    return X_train, y_train\n",
    "\n",
    "def warp_images(X_train, y_train, start=0, stop=1):\n",
    "    for i in range(start, stop, 1):\n",
    "        # get image\n",
    "        image = X_train[i]\n",
    "        # get dimensions of image\n",
    "        rows,cols,ch = image.shape\n",
    "        # calculate transform\n",
    "        # warp randomly 1 of 2 different ways.\n",
    "        chg_pts = random.choice([[[4, 8],[24, 6],[10, 30]], [[10, 10],[24, 6],[8, 28]]])\n",
    "        pts1 = np.float32([[6, 6],[24, 6],[6, 24]])\n",
    "        pts2 = np.float32(chg_pts)\n",
    "        # perform transform and warp\n",
    "        M = cv2.getAffineTransform(pts1,pts2)\n",
    "        warped = cv2.warpAffine(image,M,(cols,rows))\n",
    "        # add to set\n",
    "        X_train = np.append(X_train, [warped], axis=0)\n",
    "        y_train = np.append(y_train, [y_train[i]], axis=0)\n",
    "    return X_train, y_train\n",
    "\n",
    "# Additional images did not increase accuracy, will not add to Training set.\n",
    "#X_train, y_train = rotate_images(X_train, y_train,stop=10000)\n",
    "#X_train, y_train = warp_images(X_train, y_train, start=10000, stop=20000)\n",
    "print(len(X_train))\n",
    "        \n",
    "# Check to make sure all sets have corresponding labels.\n",
    "assert(len(X_train) == len(y_train))\n",
    "assert(len(X_validation) == len(y_validation))\n",
    "assert(len(X_test) == len(y_test))\n",
    "\n",
    "# shuffle training set.\n",
    "X_train, y_train = shuffle_data(X_train, y_train)\n",
    "\n",
    "# normalize training, testing and validation sets.\n",
    "X_train = normalize_images(X_train)\n",
    "X_test = normalize_images(X_test)\n",
    "X_validation = normalize_images(X_validation)\n"
   ]
  },
  {
   "cell_type": "markdown",
   "metadata": {},
   "source": [
    "### Question 2\n",
    "\n",
    "_Describe how you set up the training, validation and testing data for your model. **Optional**: If you generated additional data, how did you generate the data? Why did you generate the data? What are the differences in the new dataset (with generated data) from the original dataset?_"
   ]
  },
  {
   "cell_type": "markdown",
   "metadata": {},
   "source": [
    "The training and testing sets were provided to us separately. I initially added 10,000 additional signs to the training set by either rotating the images + 25 or - 25 degrees (anymore than this I thought could potentially change the meaning of the sign). I also initially added another 10,000 signs by warping some of the signs as well, just 2 different ways (which to me, merely shifted the perspective of the signs a bit). For a total of 20,000 additonal signs. But after running the Neural Net it did not seem to matter at all, so I commented out the creation of these images. Additonally, I sliced off 20% of the testing set for validation purposes."
   ]
  },
  {
   "cell_type": "code",
   "execution_count": 8,
   "metadata": {
    "collapsed": false
   },
   "outputs": [],
   "source": [
    "# Neural net Architecture based on LeNet.\n",
    "\n",
    "import tensorflow as tf\n",
    "from tensorflow.contrib.layers import flatten\n",
    "\n",
    "def LeNet(x):    \n",
    "  \n",
    "    # Arguments for tf.truncated_normal: weights & biases matrices, initialized randomly with normal distribution\n",
    "    mu = 0\n",
    "    sigma = 0.1\n",
    "     \n",
    "    # Layer 1: Convolutional. Input = 32x32x3. Output = 28x28x3x32.\n",
    "    conv1_W = tf.Variable(tf.truncated_normal(shape=(5, 5, 3, 32), mean = mu, stddev = sigma), name='conv1_W')\n",
    "    conv1_b = tf.Variable(tf.zeros(32), name='conv1_b')\n",
    "    conv1   = tf.nn.conv2d(x, conv1_W, strides=[1, 1, 1, 1], padding='VALID') + conv1_b\n",
    "    # Rectilinear Unit Activation.\n",
    "    conv1 = tf.nn.relu(conv1)    \n",
    "    # Local Response Normaliztion\n",
    "    conv1 = tf.nn.local_response_normalization(conv1)\n",
    "    # Max Pooling. Input = 28x28x32. Output = 14x14x32.\n",
    "    conv1 = tf.nn.max_pool(conv1, ksize=[1, 3, 3, 1], strides=[1, 2, 2, 1], padding='VALID')\n",
    "\n",
    "    # Layer 2: Convolutional. Output = 10x10x64.\n",
    "    conv2_W = tf.Variable(tf.truncated_normal(shape=(5, 5, 32, 64), mean = mu, stddev = sigma), name='conv2_W')\n",
    "    conv2_b = tf.Variable(tf.zeros(64), name='conv2_b')\n",
    "    conv2   = tf.nn.conv2d(conv1, conv2_W, strides=[1, 1, 1, 1], padding='VALID') + conv2_b    \n",
    "    # Rectilinear Unit Activation.\n",
    "    conv2 = tf.nn.relu(conv2)    \n",
    "    # Local Response Normaliztion\n",
    "    conv2 = tf.nn.local_response_normalization(conv2)\n",
    "    # Max Pooling. Input = 10x10x64. Output = 4x4x64. \n",
    "    conv2 = tf.nn.max_pool(conv2, ksize=[1, 3, 3, 1], strides=[1, 2, 2, 1], padding='VALID')\n",
    "    \n",
    "    # Flatten. Input = 4x4x64. Output = 1024.\n",
    "    fc0   = flatten(conv2)\n",
    "    \n",
    "    # Layer 3: Fully Connected. Input = 1024. Output = 480.\n",
    "    fc1_W = tf.Variable(tf.truncated_normal(shape=(1024, 480), mean = mu, stddev = sigma), name='fc1_W')\n",
    "    fc1_b = tf.Variable(tf.zeros(480), name='fc1_b')\n",
    "    fc1   = tf.matmul(fc0, fc1_W) + fc1_b    \n",
    "    # Rectilinear Unit Activation.\n",
    "    fc1    = tf.nn.relu(fc1)\n",
    "    # Dropout\n",
    "    fc1_drop = tf.nn.dropout(fc1, keep_prob)\n",
    "\n",
    "    # Layer 4: Fully Connected. Input = 480. Output = 168.\n",
    "    fc2_W  = tf.Variable(tf.truncated_normal(shape=(480, 168), mean = mu, stddev = sigma), name='fc2_W')\n",
    "    fc2_b  = tf.Variable(tf.zeros(168), name='fc2_b')\n",
    "    fc2    = tf.matmul(fc1_drop, fc2_W) + fc2_b    \n",
    "    # Rectilinear Unit Activation.\n",
    "    fc2    = tf.nn.relu(fc2)\n",
    "    # Dropout\n",
    "    fc2_drop = tf.nn.dropout(fc2, keep_prob)\n",
    "\n",
    "    # Layer 5: Fully Connected. Input = 168. Output = 43.\n",
    "    fc3_W  = tf.Variable(tf.truncated_normal(shape=(168, 43), mean = mu, stddev = sigma), name='fc3_W')\n",
    "    fc3_b  = tf.Variable(tf.zeros(43), name='fc3_b')\n",
    "    logits = tf.matmul(fc2_drop, fc3_W) + fc3_b\n",
    "    \n",
    "    return logits"
   ]
  },
  {
   "cell_type": "markdown",
   "metadata": {},
   "source": [
    "### Question 3\n",
    "\n",
    "_What does your final architecture look like? (Type of model, layers, sizes, connectivity, etc.)  For reference on how to build a deep neural network using TensorFlow, see [Deep Neural Network in TensorFlow\n",
    "](https://classroom.udacity.com/nanodegrees/nd013/parts/fbf77062-5703-404e-b60c-95b78b2f3f9e/modules/6df7ae49-c61c-4bb2-a23e-6527e69209ec/lessons/b516a270-8600-4f93-a0a3-20dfeabe5da6/concepts/83a3a2a2-a9bd-4b7b-95b0-eb924ab14432) from the classroom._\n"
   ]
  },
  {
   "cell_type": "markdown",
   "metadata": {},
   "source": [
    "My final Neural Net architecure consists of 2 convolutional layers and 3 fully connected layers - and this was based upon the LeNet architecture as preseneted in class. I tested an additional layer but it did not seem to yield greater accuracy through 10 epochs. In additon I made some changes to this architecture, using what seemed to be a highly influential paper - ImageNet Classification with Deep Convolutional Neural Networks by Alex Krizhevsky, Ilya Sutskever, and Geoffrey E. Hinton. The changes I made were as follows: I added Local Response Normalization in each of the convolutional layers. I also per their recommendation used a larger ksize= 3 than stride size= 2 in the max pooling. Testing both of these features did increase the accuracy on average through 10 epochs than without. I started with 32 feature maps and I used a dropout of .5 on the first 2 fully connected layers."
   ]
  },
  {
   "cell_type": "code",
   "execution_count": 9,
   "metadata": {
    "collapsed": false
   },
   "outputs": [
    {
     "name": "stdout",
     "output_type": "stream",
     "text": [
      "Training...\n",
      "\n",
      "EPOCH 1 ...\n",
      "Validation Accuracy = 0.660\n",
      "\n",
      "EPOCH 2 ...\n",
      "Validation Accuracy = 0.898\n",
      "\n",
      "EPOCH 3 ...\n",
      "Validation Accuracy = 0.932\n",
      "\n",
      "EPOCH 4 ...\n",
      "Validation Accuracy = 0.949\n",
      "\n",
      "EPOCH 5 ...\n",
      "Validation Accuracy = 0.943\n",
      "\n",
      "EPOCH 6 ...\n",
      "Validation Accuracy = 0.961\n",
      "\n",
      "EPOCH 7 ...\n",
      "Validation Accuracy = 0.961\n",
      "\n",
      "EPOCH 8 ...\n",
      "Validation Accuracy = 0.964\n",
      "\n",
      "EPOCH 9 ...\n",
      "Validation Accuracy = 0.966\n",
      "\n",
      "EPOCH 10 ...\n",
      "Validation Accuracy = 0.968\n",
      "\n",
      "EPOCH 11 ...\n",
      "Validation Accuracy = 0.962\n",
      "\n",
      "EPOCH 12 ...\n",
      "Validation Accuracy = 0.964\n",
      "\n",
      "EPOCH 13 ...\n",
      "Validation Accuracy = 0.964\n",
      "\n",
      "EPOCH 14 ...\n",
      "Validation Accuracy = 0.970\n",
      "\n",
      "EPOCH 15 ...\n",
      "Validation Accuracy = 0.966\n",
      "\n",
      "EPOCH 16 ...\n",
      "Validation Accuracy = 0.968\n",
      "\n",
      "EPOCH 17 ...\n",
      "Validation Accuracy = 0.967\n",
      "\n",
      "EPOCH 18 ...\n",
      "Validation Accuracy = 0.970\n",
      "\n",
      "EPOCH 19 ...\n",
      "Validation Accuracy = 0.972\n",
      "\n",
      "EPOCH 20 ...\n",
      "Validation Accuracy = 0.967\n",
      "\n",
      "EPOCH 21 ...\n",
      "Validation Accuracy = 0.968\n",
      "\n",
      "EPOCH 22 ...\n",
      "Validation Accuracy = 0.970\n",
      "\n",
      "EPOCH 23 ...\n",
      "Validation Accuracy = 0.970\n",
      "\n",
      "EPOCH 24 ...\n",
      "Validation Accuracy = 0.968\n",
      "\n",
      "EPOCH 25 ...\n",
      "Validation Accuracy = 0.970\n",
      "\n",
      "EPOCH 26 ...\n",
      "Validation Accuracy = 0.973\n",
      "\n",
      "EPOCH 27 ...\n",
      "Validation Accuracy = 0.970\n",
      "\n",
      "EPOCH 28 ...\n",
      "Validation Accuracy = 0.969\n",
      "\n",
      "EPOCH 29 ...\n",
      "Validation Accuracy = 0.966\n",
      "\n",
      "EPOCH 30 ...\n",
      "Validation Accuracy = 0.973\n",
      "\n",
      "EPOCH 31 ...\n",
      "Validation Accuracy = 0.966\n",
      "\n",
      "EPOCH 32 ...\n",
      "Validation Accuracy = 0.970\n",
      "\n",
      "EPOCH 33 ...\n",
      "Validation Accuracy = 0.972\n",
      "\n",
      "EPOCH 34 ...\n",
      "Validation Accuracy = 0.970\n",
      "\n",
      "EPOCH 35 ...\n",
      "Validation Accuracy = 0.972\n",
      "\n",
      "EPOCH 36 ...\n",
      "Validation Accuracy = 0.971\n",
      "\n",
      "EPOCH 37 ...\n",
      "Validation Accuracy = 0.968\n",
      "\n",
      "EPOCH 38 ...\n",
      "Validation Accuracy = 0.973\n",
      "\n",
      "EPOCH 39 ...\n",
      "Validation Accuracy = 0.967\n",
      "\n",
      "EPOCH 40 ...\n",
      "Validation Accuracy = 0.971\n",
      "\n",
      "EPOCH 41 ...\n",
      "Validation Accuracy = 0.972\n",
      "\n",
      "EPOCH 42 ...\n",
      "Validation Accuracy = 0.969\n",
      "\n",
      "EPOCH 43 ...\n",
      "Validation Accuracy = 0.972\n",
      "\n",
      "EPOCH 44 ...\n",
      "Validation Accuracy = 0.970\n",
      "\n",
      "EPOCH 45 ...\n",
      "Validation Accuracy = 0.971\n",
      "\n",
      "EPOCH 46 ...\n",
      "Validation Accuracy = 0.973\n",
      "\n",
      "EPOCH 47 ...\n",
      "Validation Accuracy = 0.970\n",
      "\n",
      "EPOCH 48 ...\n",
      "Validation Accuracy = 0.975\n",
      "\n",
      "EPOCH 49 ...\n",
      "Validation Accuracy = 0.968\n",
      "\n",
      "EPOCH 50 ...\n",
      "Validation Accuracy = 0.971\n",
      "\n",
      "EPOCH 51 ...\n",
      "Validation Accuracy = 0.975\n",
      "\n",
      "EPOCH 52 ...\n",
      "Validation Accuracy = 0.970\n",
      "\n",
      "EPOCH 53 ...\n",
      "Validation Accuracy = 0.970\n",
      "\n",
      "EPOCH 54 ...\n",
      "Validation Accuracy = 0.971\n",
      "\n",
      "EPOCH 55 ...\n",
      "Validation Accuracy = 0.968\n",
      "\n",
      "EPOCH 56 ...\n",
      "Validation Accuracy = 0.973\n",
      "\n",
      "EPOCH 57 ...\n",
      "Validation Accuracy = 0.971\n",
      "\n",
      "EPOCH 58 ...\n",
      "Validation Accuracy = 0.970\n",
      "\n",
      "EPOCH 59 ...\n",
      "Validation Accuracy = 0.977\n",
      "\n",
      "EPOCH 60 ...\n",
      "Validation Accuracy = 0.972\n",
      "\n",
      "EPOCH 61 ...\n",
      "Validation Accuracy = 0.974\n",
      "\n",
      "EPOCH 62 ...\n",
      "Validation Accuracy = 0.972\n",
      "\n",
      "EPOCH 63 ...\n",
      "Validation Accuracy = 0.971\n",
      "\n",
      "EPOCH 64 ...\n",
      "Validation Accuracy = 0.975\n",
      "\n",
      "EPOCH 65 ...\n",
      "Validation Accuracy = 0.971\n",
      "\n",
      "EPOCH 66 ...\n",
      "Validation Accuracy = 0.976\n",
      "\n",
      "EPOCH 67 ...\n",
      "Validation Accuracy = 0.968\n",
      "\n",
      "EPOCH 68 ...\n",
      "Validation Accuracy = 0.971\n",
      "\n",
      "EPOCH 69 ...\n",
      "Validation Accuracy = 0.975\n",
      "\n",
      "EPOCH 70 ...\n",
      "Validation Accuracy = 0.970\n",
      "\n",
      "EPOCH 71 ...\n",
      "Validation Accuracy = 0.973\n",
      "\n",
      "EPOCH 72 ...\n",
      "Validation Accuracy = 0.976\n",
      "\n",
      "EPOCH 73 ...\n",
      "Validation Accuracy = 0.969\n",
      "\n",
      "EPOCH 74 ...\n",
      "Validation Accuracy = 0.970\n",
      "\n",
      "EPOCH 75 ...\n",
      "Validation Accuracy = 0.972\n",
      "\n",
      "EPOCH 76 ...\n",
      "Validation Accuracy = 0.975\n",
      "\n",
      "EPOCH 77 ...\n",
      "Validation Accuracy = 0.972\n",
      "\n",
      "EPOCH 78 ...\n",
      "Validation Accuracy = 0.976\n",
      "\n",
      "EPOCH 79 ...\n",
      "Validation Accuracy = 0.977\n",
      "\n",
      "EPOCH 80 ...\n",
      "Validation Accuracy = 0.977\n",
      "\n",
      "EPOCH 81 ...\n",
      "Validation Accuracy = 0.973\n",
      "\n",
      "EPOCH 82 ...\n",
      "Validation Accuracy = 0.974\n",
      "\n",
      "EPOCH 83 ...\n",
      "Validation Accuracy = 0.973\n",
      "\n",
      "EPOCH 84 ...\n",
      "Validation Accuracy = 0.970\n",
      "\n",
      "EPOCH 85 ...\n",
      "Validation Accuracy = 0.972\n",
      "\n",
      "EPOCH 86 ...\n",
      "Validation Accuracy = 0.971\n",
      "\n",
      "EPOCH 87 ...\n",
      "Validation Accuracy = 0.977\n",
      "\n",
      "EPOCH 88 ...\n",
      "Validation Accuracy = 0.977\n",
      "\n",
      "EPOCH 89 ...\n",
      "Validation Accuracy = 0.971\n",
      "\n",
      "EPOCH 90 ...\n",
      "Validation Accuracy = 0.971\n",
      "\n",
      "EPOCH 91 ...\n",
      "Validation Accuracy = 0.974\n",
      "\n",
      "EPOCH 92 ...\n",
      "Validation Accuracy = 0.976\n",
      "\n",
      "EPOCH 93 ...\n",
      "Validation Accuracy = 0.973\n",
      "\n",
      "EPOCH 94 ...\n",
      "Validation Accuracy = 0.971\n",
      "\n",
      "EPOCH 95 ...\n",
      "Validation Accuracy = 0.975\n",
      "\n",
      "EPOCH 96 ...\n",
      "Validation Accuracy = 0.968\n",
      "\n",
      "EPOCH 97 ...\n",
      "Validation Accuracy = 0.977\n",
      "\n",
      "EPOCH 98 ...\n",
      "Validation Accuracy = 0.972\n",
      "\n",
      "EPOCH 99 ...\n",
      "Validation Accuracy = 0.972\n",
      "\n",
      "EPOCH 100 ...\n",
      "Validation Accuracy = 0.970\n",
      "\n",
      "Model saved\n"
     ]
    }
   ],
   "source": [
    "# Training Model\n",
    "import tensorflow as tf\n",
    "\n",
    "EPOCHS = 100\n",
    "BATCH_SIZE = 128\n",
    "x = tf.placeholder(tf.float32, (None, 32, 32, 3))\n",
    "y = tf.placeholder(tf.int32, (None))\n",
    "# keep probablity for drop out.\n",
    "keep_prob = tf.placeholder(tf.float32)\n",
    "\n",
    "# woud normally use one_hot_y = tf.one_hot(y, 43), but known issue with tensor flow for windows\n",
    "# so used work around.\n",
    "\n",
    "num_labels = 43\n",
    "sparse_labels = tf.reshape(y, [-1, 1])\n",
    "derived_size = tf.shape(sparse_labels)[0]\n",
    "indices = tf.reshape(tf.range(0, derived_size, 1), [-1, 1])\n",
    "concated = tf.concat(1, [indices, sparse_labels])\n",
    "outshape = tf.concat(0, [tf.reshape(derived_size, [1]), tf.reshape(num_labels, [1])])\n",
    "one_hot_y = tf.sparse_to_dense(concated, outshape, 1.0, 0.0)\n",
    "\n",
    "# tried slower rate change (.0005) since I noticed higher and then lower accuracey values on \n",
    "# training epochs as if rate was over shooting minimum, but .001 yielded better results.\n",
    "\n",
    "rate = 0.0005\n",
    "\n",
    "logits = LeNet(x)\n",
    "cross_entropy = tf.nn.softmax_cross_entropy_with_logits(logits, one_hot_y)\n",
    "loss_operation = tf.reduce_mean(cross_entropy)\n",
    "optimizer = tf.train.AdamOptimizer(learning_rate = rate)\n",
    "training_operation = optimizer.minimize(loss_operation)\n",
    "\n",
    "correct_prediction = tf.equal(tf.argmax(logits, 1), tf.argmax(one_hot_y, 1))\n",
    "accuracy_operation = tf.reduce_mean(tf.cast(correct_prediction, tf.float32))\n",
    "saver = tf.train.Saver()\n",
    "\n",
    "def evaluate(X_data, y_data):\n",
    "    num_examples = len(X_data)\n",
    "    total_accuracy = 0\n",
    "    sess = tf.get_default_session()\n",
    "    for offset in range(0, num_examples, BATCH_SIZE):\n",
    "        batch_x, batch_y = X_data[offset:offset+BATCH_SIZE], y_data[offset:offset+BATCH_SIZE]\n",
    "        accuracy = sess.run(accuracy_operation, feed_dict={x: batch_x, y: batch_y, keep_prob:1.0})\n",
    "        total_accuracy += (accuracy * len(batch_x))\n",
    "    return total_accuracy / num_examples\n",
    "\n",
    "with tf.Session() as sess:\n",
    "    sess.run(tf.global_variables_initializer())\n",
    "    num_examples = len(X_train)\n",
    "    \n",
    "    print(\"Training...\")\n",
    "    print()\n",
    "    for i in range(EPOCHS):\n",
    "        X_train, y_train = shuffle(X_train, y_train)\n",
    "        for offset in range(0, num_examples, BATCH_SIZE):\n",
    "            end = offset + BATCH_SIZE\n",
    "            batch_x, batch_y = X_train[offset:end], y_train[offset:end]\n",
    "            sess.run(training_operation, feed_dict={x: batch_x, y: batch_y, keep_prob:.5})\n",
    "            \n",
    "        validation_accuracy = evaluate(X_validation, y_validation)\n",
    "        print(\"EPOCH {} ...\".format(i+1))\n",
    "        print(\"Validation Accuracy = {:.3f}\".format(validation_accuracy))\n",
    "        print()\n",
    "        \n",
    "    saver.save(sess, r'C:\\Users\\clown\\OneDrive\\Documents\\GitHub\\CarND-Traffic-Sign-Classifier-Project\\lenet')\n",
    "    print(\"Model saved\")"
   ]
  },
  {
   "cell_type": "markdown",
   "metadata": {},
   "source": [
    "### Question 4\n",
    "\n",
    "_How did you train your model? (Type of optimizer, batch size, epochs, hyperparameters, etc.)_\n"
   ]
  },
  {
   "cell_type": "markdown",
   "metadata": {},
   "source": [
    "I used the Adamoptimizer with batch sizes of 128 and 100 epochs. I used a learning rate of .0005 and I tried a slower learning rate of .0001 but this did not seem to work any better over 20 epochs. Additionaly, I initialized the training weights on a truncated normal distribution with mu of 0 and a sigma .1. The biases were initialized to 0. "
   ]
  },
  {
   "cell_type": "markdown",
   "metadata": {},
   "source": [
    "### Question 5\n",
    "\n",
    "\n",
    "_What approach did you take in coming up with a solution to this problem? It may have been a process of trial and error, in which case, outline the steps you took to get to the final solution and why you chose those steps. Perhaps your solution involved an already well known implementation or architecture. In this case, discuss why you think this is suitable for the current problem._"
   ]
  },
  {
   "cell_type": "markdown",
   "metadata": {},
   "source": [
    "My general approach in coming up with this solution was to use the basic LeNet architecture that was provided in class plus I read up on several optimization tips presented in papers, specifically the paper mentioned earlier. And then it was just trial and error from there. Keeping aspects that seemed to increase the accuracy and discarding aspects that did not. Specifically, I first changed the number of feature maps created from the LeNet Architecure 6 to 18. This increased the accuracy and from there I tried increasing the number of convolutional layers from 2 to 3. But this did not yield better results through 10 epochs so I reversed tack and reduced the number of convolutional layers back down to 2 and next increased the number of feature maps from 18 to 32. This increased the accuracy so I next added the local response normalization which seemed to have a positive effect as well. Next I changed the max pooling ksize from 2 to 3 and left the Max Pooling Stride at 2, which as described in the paper mentioned above did have a positive effect. Finally I added the dropout of .5 to the training set and once again, this yielded good results. My main rational was to use the LeNet architecture as provided in class, since it was a designed to be used for image recogniton and then use internet searches to find ways to optimize this architecture for my current problem. I read a few papers and websites, but the one I based most of my changes on was the one that seemed to be highest ranked of the papers in my search. I did not use the same architecture as the paper cited since my training set was much smaller and the number of features was far less and I did not have as much time to train as they did in their paper. Plus as I already mentioned additional convolutional layers did not seem to give better results. "
   ]
  },
  {
   "cell_type": "markdown",
   "metadata": {},
   "source": [
    "---\n",
    "\n",
    "## Step 3: Test a Model on New Images\n",
    "\n",
    "Take several pictures of traffic signs that you find on the web or around you (at least five), and run them through your classifier on your computer to produce example results. The classifier might not recognize some local signs but it could prove interesting nonetheless.\n",
    "\n",
    "You may find `signnames.csv` useful as it contains mappings from the class id (integer) to the actual sign name."
   ]
  },
  {
   "cell_type": "markdown",
   "metadata": {},
   "source": [
    "### Implementation\n",
    "\n",
    "Use the code cell (or multiple code cells, if necessary) to implement the first step of your project. Once you have completed your implementation and are satisfied with the results, be sure to thoroughly answer the questions that follow."
   ]
  },
  {
   "cell_type": "code",
   "execution_count": 18,
   "metadata": {
    "collapsed": false
   },
   "outputs": [
    {
     "name": "stdout",
     "output_type": "stream",
     "text": [
      "(5, 32, 32, 3)\n"
     ]
    },
    {
     "data": {
      "image/png": "[encoded data removed]",
      "text/plain": [
       "<matplotlib.figure.Figure at 0x1215f2ea1d0>"
      ]
     },
     "metadata": {},
     "output_type": "display_data"
    },
    {
     "data": {
      "image/png": "[encoded data removed]",
      "text/plain": [
       "<matplotlib.figure.Figure at 0x122f37e38d0>"
      ]
     },
     "metadata": {},
     "output_type": "display_data"
    },
    {
     "data": {
      "image/png": "[encoded data removed]",
      "text/plain": [
       "<matplotlib.figure.Figure at 0x12176026a58>"
      ]
     },
     "metadata": {},
     "output_type": "display_data"
    },
    {
     "data": {
      "image/png": "[encoded data removed]",
      "text/plain": [
       "<matplotlib.figure.Figure at 0x122f7890cf8>"
      ]
     },
     "metadata": {},
     "output_type": "display_data"
    },
    {
     "data": {
      "image/png": "[encoded data removed]",
      "text/plain": [
       "<matplotlib.figure.Figure at 0x122f7463d68>"
      ]
     },
     "metadata": {},
     "output_type": "display_data"
    }
   ],
   "source": [
    "# Load the images and plot them here.\n",
    "\n",
    "import cv2\n",
    "import numpy as np\n",
    "import matplotlib.pyplot as plt\n",
    "\n",
    "# Visualizations will be shown in the notebook.\n",
    "%matplotlib inline\n",
    "\n",
    "# images from Internet cropped and reduced in size\n",
    "img = cv2.imread('Zeichen_201+1006-39.jpeg')\n",
    "rsi1 = cv2.resize(img, (32,32))\n",
    "\n",
    "img2 = cv2.imread('Verkehrszeichen_2924.jpg')\n",
    "rsi2 = cv2.resize(img2, (32,32))\n",
    "\n",
    "img3 = cv2.imread('Verkehrsschilder_3601.jpg')\n",
    "rsi3 = cv2.resize(img3, (32,32))\n",
    "\n",
    "img4 = cv2.imread('Solingen_Burg_-_Seilbahn_30_ies.jpg')\n",
    "rsi4 = cv2.resize(img4, (32,32))\n",
    "\n",
    "img5 = cv2.imread('Sichertshausen_Lahn-Hochwasser_Lahntalradweg_(Germany)_2015-12-06_(2).jpg')\n",
    "rsi5 = cv2.resize(img5, (32,32))\n",
    "\n",
    "img6 = cv2.imread('Dienstweg.jpg')\n",
    "rsi6 = cv2.resize(img6, (32,32))\n",
    "\n",
    "images = [rsi1, rsi2, rsi4, rsi5, rsi6]\n",
    "\n",
    "\n",
    "for i in images:\n",
    "    plt.figure(figsize=(3,1))\n",
    "    plt.imshow(i)\n",
    "    plt.show\n",
    "    \n",
    "imgs = np.array(images)\n",
    "imgs = normalize_images(imgs)\n",
    "print(imgs.shape)"
   ]
  },
  {
   "cell_type": "markdown",
   "metadata": {},
   "source": [
    "### Question 6\n",
    "\n",
    "_Choose five candidate images of traffic signs and provide them in the report. Are there any particular qualities of the image(s) that might make classification difficult? It could be helpful to plot the images in the notebook._\n",
    "\n"
   ]
  },
  {
   "cell_type": "markdown",
   "metadata": {},
   "source": [
    "The images I chose from a google search on the internet were cropped versions of larger pictures. Unfortunately, for some reason after I cropped them, all the pictures showed up as blue, black and white. No red. This could make a difference in my classifier since it was trained on correctly colored images."
   ]
  },
  {
   "cell_type": "code",
   "execution_count": 25,
   "metadata": {
    "collapsed": false
   },
   "outputs": [
    {
     "name": "stdout",
     "output_type": "stream",
     "text": [
      "(5, 32, 32, 3)\n",
      "[29 31 29 10 31]\n"
     ]
    }
   ],
   "source": [
    "# Run the predictions here.\n",
    "\n",
    "# Use 5 candidate images.\n",
    "\n",
    "# New Images.\n",
    "\n",
    "imgs = np.array(images)\n",
    "imgs = normalize_images(imgs)\n",
    "print(imgs.shape)\n",
    "\n",
    "x = tf.placeholder(tf.float32, (None, 32, 32, 3))\n",
    "y = tf.placeholder(tf.int32, (None))\n",
    "keep_prob = tf.placeholder('float32')\n",
    "\n",
    "\n",
    "logits = LeNet(x)\n",
    "predict = tf.argmax(logits, 1)\n",
    "\n",
    "\n",
    "\n",
    "with tf.Session() as sess:\n",
    "    sess.run(tf.global_variables_initializer())\n",
    "    save_file = r'C:\\Users\\clown\\OneDrive\\Documents\\GitHub\\CarND-Traffic-Sign-Classifier-Project\\lenet'\n",
    "    saver = tf.train.import_meta_graph(save_file + '.meta')\n",
    "    saver.restore(sess, tf.train.latest_checkpoint('./'))\n",
    "    predictions = sess.run(predict, feed_dict={x: imgs, keep_prob: 1.0})\n",
    "    print(predictions)\n",
    "    \n",
    "    "
   ]
  },
  {
   "cell_type": "markdown",
   "metadata": {},
   "source": [
    "### Question 7\n",
    "\n",
    "_Is your model able to perform equally well on captured pictures when compared to testing on the dataset? The simplest way to do this check the accuracy of the predictions. For example, if the model predicted 1 out of 5 signs correctly, it's 20% accurate._\n",
    "\n",
    "_**NOTE:** You could check the accuracy manually by using `signnames.csv` (same directory). This file has a mapping from the class id (0-42) to the corresponding sign name. So, you could take the class id the model outputs, lookup the name in `signnames.csv` and see if it matches the sign from the image._\n"
   ]
  },
  {
   "cell_type": "markdown",
   "metadata": {},
   "source": [
    "My saved model does not perform well."
   ]
  },
  {
   "cell_type": "code",
   "execution_count": null,
   "metadata": {
    "collapsed": true
   },
   "outputs": [],
   "source": [
    "# Visualize the softmax probabilities here.\n"
   ]
  },
  {
   "cell_type": "markdown",
   "metadata": {},
   "source": [
    "### Question 8\n",
    "\n",
    "*Use the model's softmax probabilities to visualize the **certainty** of its predictions, [`tf.nn.top_k`](https://www.tensorflow.org/versions/r0.12/api_docs/python/nn.html#top_k) could prove helpful here. Which predictions is the model certain of? Uncertain? If the model was incorrect in its initial prediction, does the correct prediction appear in the top k? (k should be 5 at most)*\n",
    "\n",
    "`tf.nn.top_k` will return the values and indices (class ids) of the top k predictions. So if k=3, for each sign, it'll return the 3 largest probabilities (out of a possible 43) and the correspoding class ids.\n",
    "\n",
    "Take this numpy array as an example:\n",
    "\n",
    "```\n",
    "# (5, 6) array\n",
    "a = np.array([[ 0.24879643,  0.07032244,  0.12641572,  0.34763842,  0.07893497,\n",
    "         0.12789202],\n",
    "       [ 0.28086119,  0.27569815,  0.08594638,  0.0178669 ,  0.18063401,\n",
    "         0.15899337],\n",
    "       [ 0.26076848,  0.23664738,  0.08020603,  0.07001922,  0.1134371 ,\n",
    "         0.23892179],\n",
    "       [ 0.11943333,  0.29198961,  0.02605103,  0.26234032,  0.1351348 ,\n",
    "         0.16505091],\n",
    "       [ 0.09561176,  0.34396535,  0.0643941 ,  0.16240774,  0.24206137,\n",
    "         0.09155967]])\n",
    "```\n",
    "\n",
    "Running it through `sess.run(tf.nn.top_k(tf.constant(a), k=3))` produces:\n",
    "\n",
    "```\n",
    "TopKV2(values=array([[ 0.34763842,  0.24879643,  0.12789202],\n",
    "       [ 0.28086119,  0.27569815,  0.18063401],\n",
    "       [ 0.26076848,  0.23892179,  0.23664738],\n",
    "       [ 0.29198961,  0.26234032,  0.16505091],\n",
    "       [ 0.34396535,  0.24206137,  0.16240774]]), indices=array([[3, 0, 5],\n",
    "       [0, 1, 4],\n",
    "       [0, 5, 1],\n",
    "       [1, 3, 5],\n",
    "       [1, 4, 3]], dtype=int32))\n",
    "```\n",
    "\n",
    "Looking just at the first row we get `[ 0.34763842,  0.24879643,  0.12789202]`, you can confirm these are the 3 largest probabilities in `a`. You'll also notice `[3, 0, 5]` are the corresponding indices."
   ]
  },
  {
   "cell_type": "markdown",
   "metadata": {},
   "source": [
    "**Answer:**"
   ]
  },
  {
   "cell_type": "markdown",
   "metadata": {},
   "source": [
    "> **Note**: Once you have completed all of the code implementations and successfully answered each question above, you may finalize your work by exporting the iPython Notebook as an HTML document. You can do this by using the menu above and navigating to  \\n\",\n",
    "    \"**File -> Download as -> HTML (.html)**. Include the finished document along with this notebook as your submission."
   ]
  },
  {
   "cell_type": "code",
   "execution_count": null,
   "metadata": {
    "collapsed": true
   },
   "outputs": [],
   "source": []
  }
 ],
 "metadata": {
  "anaconda-cloud": {},
  "kernelspec": {
   "display_name": "Python [default]",
   "language": "python",
   "name": "python3"
  },
  "language_info": {
   "codemirror_mode": {
    "name": "ipython",
    "version": 3
   },
   "file_extension": ".py",
   "mimetype": "text/x-python",
   "name": "python",
   "nbconvert_exporter": "python",
   "pygments_lexer": "ipython3",
   "version": "3.5.2"
  }
 },
 "nbformat": 4,
 "nbformat_minor": 1
}
